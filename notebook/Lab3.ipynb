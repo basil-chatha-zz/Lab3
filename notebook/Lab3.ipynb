{
 "cells": [
  {
   "cell_type": "code",
   "execution_count": 1,
   "metadata": {},
   "outputs": [],
   "source": [
    "import pandas as pd\n",
    "import numpy as np\n",
    "\n",
    "%matplotlib inline\n",
    "import matplotlib.pyplot as plt\n",
    "\n",
    "import statsmodels.api as sm\n",
    "import statsmodels.formula.api as smf\n",
    "import seaborn as sns\n",
    "from statsmodels.stats.anova import anova_lm\n",
    "from sklearn.linear_model import LogisticRegression\n",
    "from sklearn.model_selection import train_test_split\n",
    "import math"
   ]
  },
  {
   "cell_type": "code",
   "execution_count": 2,
   "metadata": {},
   "outputs": [
    {
     "name": "stdout",
     "output_type": "stream",
     "text": [
      "0      17.99\n",
      "1      20.57\n",
      "2      19.69\n",
      "3      11.42\n",
      "4      20.29\n",
      "       ...  \n",
      "564    21.56\n",
      "565    20.13\n",
      "566    16.60\n",
      "567    20.60\n",
      "568     7.76\n",
      "Name: 2, Length: 569, dtype: float64\n",
      "0      10.38\n",
      "1      17.77\n",
      "2      21.25\n",
      "3      20.38\n",
      "4      14.34\n",
      "       ...  \n",
      "564    22.39\n",
      "565    28.25\n",
      "566    28.08\n",
      "567    29.33\n",
      "568    24.54\n",
      "Name: 3, Length: 569, dtype: float64\n",
      "0      122.80\n",
      "1      132.90\n",
      "2      130.00\n",
      "3       77.58\n",
      "4      135.10\n",
      "        ...  \n",
      "564    142.00\n",
      "565    131.20\n",
      "566    108.30\n",
      "567    140.10\n",
      "568     47.92\n",
      "Name: 4, Length: 569, dtype: float64\n",
      "0      1001.0\n",
      "1      1326.0\n",
      "2      1203.0\n",
      "3       386.1\n",
      "4      1297.0\n",
      "        ...  \n",
      "564    1479.0\n",
      "565    1261.0\n",
      "566     858.1\n",
      "567    1265.0\n",
      "568     181.0\n",
      "Name: 5, Length: 569, dtype: float64\n",
      "0      0.11840\n",
      "1      0.08474\n",
      "2      0.10960\n",
      "3      0.14250\n",
      "4      0.10030\n",
      "        ...   \n",
      "564    0.11100\n",
      "565    0.09780\n",
      "566    0.08455\n",
      "567    0.11780\n",
      "568    0.05263\n",
      "Name: 6, Length: 569, dtype: float64\n",
      "0      0.27760\n",
      "1      0.07864\n",
      "2      0.15990\n",
      "3      0.28390\n",
      "4      0.13280\n",
      "        ...   \n",
      "564    0.11590\n",
      "565    0.10340\n",
      "566    0.10230\n",
      "567    0.27700\n",
      "568    0.04362\n",
      "Name: 7, Length: 569, dtype: float64\n",
      "0      0.30010\n",
      "1      0.08690\n",
      "2      0.19740\n",
      "3      0.24140\n",
      "4      0.19800\n",
      "        ...   \n",
      "564    0.24390\n",
      "565    0.14400\n",
      "566    0.09251\n",
      "567    0.35140\n",
      "568    0.00000\n",
      "Name: 8, Length: 569, dtype: float64\n",
      "0      0.14710\n",
      "1      0.07017\n",
      "2      0.12790\n",
      "3      0.10520\n",
      "4      0.10430\n",
      "        ...   \n",
      "564    0.13890\n",
      "565    0.09791\n",
      "566    0.05302\n",
      "567    0.15200\n",
      "568    0.00000\n",
      "Name: 9, Length: 569, dtype: float64\n",
      "0      0.2419\n",
      "1      0.1812\n",
      "2      0.2069\n",
      "3      0.2597\n",
      "4      0.1809\n",
      "        ...  \n",
      "564    0.1726\n",
      "565    0.1752\n",
      "566    0.1590\n",
      "567    0.2397\n",
      "568    0.1587\n",
      "Name: 10, Length: 569, dtype: float64\n",
      "0      0.07871\n",
      "1      0.05667\n",
      "2      0.05999\n",
      "3      0.09744\n",
      "4      0.05883\n",
      "        ...   \n",
      "564    0.05623\n",
      "565    0.05533\n",
      "566    0.05648\n",
      "567    0.07016\n",
      "568    0.05884\n",
      "Name: 11, Length: 569, dtype: float64\n",
      "0      1.0950\n",
      "1      0.5435\n",
      "2      0.7456\n",
      "3      0.4956\n",
      "4      0.7572\n",
      "        ...  \n",
      "564    1.1760\n",
      "565    0.7655\n",
      "566    0.4564\n",
      "567    0.7260\n",
      "568    0.3857\n",
      "Name: 12, Length: 569, dtype: float64\n",
      "0      0.9053\n",
      "1      0.7339\n",
      "2      0.7869\n",
      "3      1.1560\n",
      "4      0.7813\n",
      "        ...  \n",
      "564    1.2560\n",
      "565    2.4630\n",
      "566    1.0750\n",
      "567    1.5950\n",
      "568    1.4280\n",
      "Name: 13, Length: 569, dtype: float64\n",
      "0      8.589\n",
      "1      3.398\n",
      "2      4.585\n",
      "3      3.445\n",
      "4      5.438\n",
      "       ...  \n",
      "564    7.673\n",
      "565    5.203\n",
      "566    3.425\n",
      "567    5.772\n",
      "568    2.548\n",
      "Name: 14, Length: 569, dtype: float64\n",
      "0      153.40\n",
      "1       74.08\n",
      "2       94.03\n",
      "3       27.23\n",
      "4       94.44\n",
      "        ...  \n",
      "564    158.70\n",
      "565     99.04\n",
      "566     48.55\n",
      "567     86.22\n",
      "568     19.15\n",
      "Name: 15, Length: 569, dtype: float64\n",
      "0      0.006399\n",
      "1      0.005225\n",
      "2      0.006150\n",
      "3      0.009110\n",
      "4      0.011490\n",
      "         ...   \n",
      "564    0.010300\n",
      "565    0.005769\n",
      "566    0.005903\n",
      "567    0.006522\n",
      "568    0.007189\n",
      "Name: 16, Length: 569, dtype: float64\n",
      "0      0.04904\n",
      "1      0.01308\n",
      "2      0.04006\n",
      "3      0.07458\n",
      "4      0.02461\n",
      "        ...   \n",
      "564    0.02891\n",
      "565    0.02423\n",
      "566    0.03731\n",
      "567    0.06158\n",
      "568    0.00466\n",
      "Name: 17, Length: 569, dtype: float64\n",
      "0      0.05373\n",
      "1      0.01860\n",
      "2      0.03832\n",
      "3      0.05661\n",
      "4      0.05688\n",
      "        ...   \n",
      "564    0.05198\n",
      "565    0.03950\n",
      "566    0.04730\n",
      "567    0.07117\n",
      "568    0.00000\n",
      "Name: 18, Length: 569, dtype: float64\n",
      "0      0.01587\n",
      "1      0.01340\n",
      "2      0.02058\n",
      "3      0.01867\n",
      "4      0.01885\n",
      "        ...   \n",
      "564    0.02454\n",
      "565    0.01678\n",
      "566    0.01557\n",
      "567    0.01664\n",
      "568    0.00000\n",
      "Name: 19, Length: 569, dtype: float64\n",
      "0      0.03003\n",
      "1      0.01389\n",
      "2      0.02250\n",
      "3      0.05963\n",
      "4      0.01756\n",
      "        ...   \n",
      "564    0.01114\n",
      "565    0.01898\n",
      "566    0.01318\n",
      "567    0.02324\n",
      "568    0.02676\n",
      "Name: 20, Length: 569, dtype: float64\n",
      "0      0.006193\n",
      "1      0.003532\n",
      "2      0.004571\n",
      "3      0.009208\n",
      "4      0.005115\n",
      "         ...   \n",
      "564    0.004239\n",
      "565    0.002498\n",
      "566    0.003892\n",
      "567    0.006185\n",
      "568    0.002783\n",
      "Name: 21, Length: 569, dtype: float64\n",
      "0      25.380\n",
      "1      24.990\n",
      "2      23.570\n",
      "3      14.910\n",
      "4      22.540\n",
      "        ...  \n",
      "564    25.450\n",
      "565    23.690\n",
      "566    18.980\n",
      "567    25.740\n",
      "568     9.456\n",
      "Name: 22, Length: 569, dtype: float64\n",
      "0      17.33\n",
      "1      23.41\n",
      "2      25.53\n",
      "3      26.50\n",
      "4      16.67\n",
      "       ...  \n",
      "564    26.40\n",
      "565    38.25\n",
      "566    34.12\n",
      "567    39.42\n",
      "568    30.37\n",
      "Name: 23, Length: 569, dtype: float64\n",
      "0      184.60\n",
      "1      158.80\n",
      "2      152.50\n",
      "3       98.87\n",
      "4      152.20\n",
      "        ...  \n",
      "564    166.10\n",
      "565    155.00\n",
      "566    126.70\n",
      "567    184.60\n",
      "568     59.16\n",
      "Name: 24, Length: 569, dtype: float64\n",
      "0      2019.0\n",
      "1      1956.0\n",
      "2      1709.0\n",
      "3       567.7\n",
      "4      1575.0\n",
      "        ...  \n",
      "564    2027.0\n",
      "565    1731.0\n",
      "566    1124.0\n",
      "567    1821.0\n",
      "568     268.6\n",
      "Name: 25, Length: 569, dtype: float64\n",
      "0      0.16220\n",
      "1      0.12380\n",
      "2      0.14440\n",
      "3      0.20980\n",
      "4      0.13740\n",
      "        ...   \n",
      "564    0.14100\n",
      "565    0.11660\n",
      "566    0.11390\n",
      "567    0.16500\n",
      "568    0.08996\n",
      "Name: 26, Length: 569, dtype: float64\n",
      "0      0.66560\n",
      "1      0.18660\n",
      "2      0.42450\n",
      "3      0.86630\n",
      "4      0.20500\n",
      "        ...   \n",
      "564    0.21130\n",
      "565    0.19220\n",
      "566    0.30940\n",
      "567    0.86810\n",
      "568    0.06444\n",
      "Name: 27, Length: 569, dtype: float64\n",
      "0      0.7119\n",
      "1      0.2416\n",
      "2      0.4504\n",
      "3      0.6869\n",
      "4      0.4000\n",
      "        ...  \n",
      "564    0.4107\n",
      "565    0.3215\n",
      "566    0.3403\n",
      "567    0.9387\n",
      "568    0.0000\n",
      "Name: 28, Length: 569, dtype: float64\n",
      "0      0.2654\n",
      "1      0.1860\n",
      "2      0.2430\n",
      "3      0.2575\n",
      "4      0.1625\n",
      "        ...  \n",
      "564    0.2216\n",
      "565    0.1628\n",
      "566    0.1418\n",
      "567    0.2650\n",
      "568    0.0000\n",
      "Name: 29, Length: 569, dtype: float64\n",
      "0      0.4601\n",
      "1      0.2750\n",
      "2      0.3613\n",
      "3      0.6638\n",
      "4      0.2364\n",
      "        ...  \n",
      "564    0.2060\n",
      "565    0.2572\n",
      "566    0.2218\n",
      "567    0.4087\n",
      "568    0.2871\n",
      "Name: 30, Length: 569, dtype: float64\n",
      "0      0.11890\n",
      "1      0.08902\n",
      "2      0.08758\n",
      "3      0.17300\n",
      "4      0.07678\n",
      "        ...   \n",
      "564    0.07115\n",
      "565    0.06637\n",
      "566    0.07820\n",
      "567    0.12400\n",
      "568    0.07039\n",
      "Name: 31, Length: 569, dtype: float64\n"
     ]
    },
    {
     "ename": "KeyError",
     "evalue": "32",
     "output_type": "error",
     "traceback": [
      "\u001b[0;31m---------------------------------------------------------------------\u001b[0m",
      "\u001b[0;31mKeyError\u001b[0m                            Traceback (most recent call last)",
      "\u001b[0;32m/usr/local/lib/python3.7/site-packages/pandas/core/indexes/base.py\u001b[0m in \u001b[0;36mget_loc\u001b[0;34m(self, key, method, tolerance)\u001b[0m\n\u001b[1;32m   2889\u001b[0m             \u001b[0;32mtry\u001b[0m\u001b[0;34m:\u001b[0m\u001b[0;34m\u001b[0m\u001b[0;34m\u001b[0m\u001b[0m\n\u001b[0;32m-> 2890\u001b[0;31m                 \u001b[0;32mreturn\u001b[0m \u001b[0mself\u001b[0m\u001b[0;34m.\u001b[0m\u001b[0m_engine\u001b[0m\u001b[0;34m.\u001b[0m\u001b[0mget_loc\u001b[0m\u001b[0;34m(\u001b[0m\u001b[0mkey\u001b[0m\u001b[0;34m)\u001b[0m\u001b[0;34m\u001b[0m\u001b[0;34m\u001b[0m\u001b[0m\n\u001b[0m\u001b[1;32m   2891\u001b[0m             \u001b[0;32mexcept\u001b[0m \u001b[0mKeyError\u001b[0m\u001b[0;34m:\u001b[0m\u001b[0;34m\u001b[0m\u001b[0;34m\u001b[0m\u001b[0m\n",
      "\u001b[0;32mpandas/_libs/index.pyx\u001b[0m in \u001b[0;36mpandas._libs.index.IndexEngine.get_loc\u001b[0;34m()\u001b[0m\n",
      "\u001b[0;32mpandas/_libs/index.pyx\u001b[0m in \u001b[0;36mpandas._libs.index.IndexEngine.get_loc\u001b[0;34m()\u001b[0m\n",
      "\u001b[0;32mpandas/_libs/hashtable_class_helper.pxi\u001b[0m in \u001b[0;36mpandas._libs.hashtable.Int64HashTable.get_item\u001b[0;34m()\u001b[0m\n",
      "\u001b[0;32mpandas/_libs/hashtable_class_helper.pxi\u001b[0m in \u001b[0;36mpandas._libs.hashtable.Int64HashTable.get_item\u001b[0;34m()\u001b[0m\n",
      "\u001b[0;31mKeyError\u001b[0m: 32",
      "\nDuring handling of the above exception, another exception occurred:\n",
      "\u001b[0;31mKeyError\u001b[0m                            Traceback (most recent call last)",
      "\u001b[0;32m<ipython-input-2-43601489a234>\u001b[0m in \u001b[0;36m<module>\u001b[0;34m\u001b[0m\n\u001b[1;32m      2\u001b[0m \u001b[0mdf\u001b[0m\u001b[0;34m.\u001b[0m\u001b[0mhead\u001b[0m\u001b[0;34m(\u001b[0m\u001b[0;34m)\u001b[0m\u001b[0;34m\u001b[0m\u001b[0;34m\u001b[0m\u001b[0m\n\u001b[1;32m      3\u001b[0m \u001b[0;32mfor\u001b[0m \u001b[0mi\u001b[0m \u001b[0;32min\u001b[0m \u001b[0mrange\u001b[0m\u001b[0;34m(\u001b[0m\u001b[0;36m2\u001b[0m\u001b[0;34m,\u001b[0m \u001b[0;36m33\u001b[0m\u001b[0;34m)\u001b[0m\u001b[0;34m:\u001b[0m\u001b[0;34m\u001b[0m\u001b[0;34m\u001b[0m\u001b[0m\n\u001b[0;32m----> 4\u001b[0;31m     \u001b[0mprint\u001b[0m\u001b[0;34m(\u001b[0m\u001b[0mdf\u001b[0m\u001b[0;34m[\u001b[0m\u001b[0mi\u001b[0m\u001b[0;34m]\u001b[0m\u001b[0;34m)\u001b[0m\u001b[0;34m\u001b[0m\u001b[0;34m\u001b[0m\u001b[0m\n\u001b[0m",
      "\u001b[0;32m/usr/local/lib/python3.7/site-packages/pandas/core/frame.py\u001b[0m in \u001b[0;36m__getitem__\u001b[0;34m(self, key)\u001b[0m\n\u001b[1;32m   2973\u001b[0m             \u001b[0;32mif\u001b[0m \u001b[0mself\u001b[0m\u001b[0;34m.\u001b[0m\u001b[0mcolumns\u001b[0m\u001b[0;34m.\u001b[0m\u001b[0mnlevels\u001b[0m \u001b[0;34m>\u001b[0m \u001b[0;36m1\u001b[0m\u001b[0;34m:\u001b[0m\u001b[0;34m\u001b[0m\u001b[0;34m\u001b[0m\u001b[0m\n\u001b[1;32m   2974\u001b[0m                 \u001b[0;32mreturn\u001b[0m \u001b[0mself\u001b[0m\u001b[0;34m.\u001b[0m\u001b[0m_getitem_multilevel\u001b[0m\u001b[0;34m(\u001b[0m\u001b[0mkey\u001b[0m\u001b[0;34m)\u001b[0m\u001b[0;34m\u001b[0m\u001b[0;34m\u001b[0m\u001b[0m\n\u001b[0;32m-> 2975\u001b[0;31m             \u001b[0mindexer\u001b[0m \u001b[0;34m=\u001b[0m \u001b[0mself\u001b[0m\u001b[0;34m.\u001b[0m\u001b[0mcolumns\u001b[0m\u001b[0;34m.\u001b[0m\u001b[0mget_loc\u001b[0m\u001b[0;34m(\u001b[0m\u001b[0mkey\u001b[0m\u001b[0;34m)\u001b[0m\u001b[0;34m\u001b[0m\u001b[0;34m\u001b[0m\u001b[0m\n\u001b[0m\u001b[1;32m   2976\u001b[0m             \u001b[0;32mif\u001b[0m \u001b[0mis_integer\u001b[0m\u001b[0;34m(\u001b[0m\u001b[0mindexer\u001b[0m\u001b[0;34m)\u001b[0m\u001b[0;34m:\u001b[0m\u001b[0;34m\u001b[0m\u001b[0;34m\u001b[0m\u001b[0m\n\u001b[1;32m   2977\u001b[0m                 \u001b[0mindexer\u001b[0m \u001b[0;34m=\u001b[0m \u001b[0;34m[\u001b[0m\u001b[0mindexer\u001b[0m\u001b[0;34m]\u001b[0m\u001b[0;34m\u001b[0m\u001b[0;34m\u001b[0m\u001b[0m\n",
      "\u001b[0;32m/usr/local/lib/python3.7/site-packages/pandas/core/indexes/base.py\u001b[0m in \u001b[0;36mget_loc\u001b[0;34m(self, key, method, tolerance)\u001b[0m\n\u001b[1;32m   2890\u001b[0m                 \u001b[0;32mreturn\u001b[0m \u001b[0mself\u001b[0m\u001b[0;34m.\u001b[0m\u001b[0m_engine\u001b[0m\u001b[0;34m.\u001b[0m\u001b[0mget_loc\u001b[0m\u001b[0;34m(\u001b[0m\u001b[0mkey\u001b[0m\u001b[0;34m)\u001b[0m\u001b[0;34m\u001b[0m\u001b[0;34m\u001b[0m\u001b[0m\n\u001b[1;32m   2891\u001b[0m             \u001b[0;32mexcept\u001b[0m \u001b[0mKeyError\u001b[0m\u001b[0;34m:\u001b[0m\u001b[0;34m\u001b[0m\u001b[0;34m\u001b[0m\u001b[0m\n\u001b[0;32m-> 2892\u001b[0;31m                 \u001b[0;32mreturn\u001b[0m \u001b[0mself\u001b[0m\u001b[0;34m.\u001b[0m\u001b[0m_engine\u001b[0m\u001b[0;34m.\u001b[0m\u001b[0mget_loc\u001b[0m\u001b[0;34m(\u001b[0m\u001b[0mself\u001b[0m\u001b[0;34m.\u001b[0m\u001b[0m_maybe_cast_indexer\u001b[0m\u001b[0;34m(\u001b[0m\u001b[0mkey\u001b[0m\u001b[0;34m)\u001b[0m\u001b[0;34m)\u001b[0m\u001b[0;34m\u001b[0m\u001b[0;34m\u001b[0m\u001b[0m\n\u001b[0m\u001b[1;32m   2893\u001b[0m         \u001b[0mindexer\u001b[0m \u001b[0;34m=\u001b[0m \u001b[0mself\u001b[0m\u001b[0;34m.\u001b[0m\u001b[0mget_indexer\u001b[0m\u001b[0;34m(\u001b[0m\u001b[0;34m[\u001b[0m\u001b[0mkey\u001b[0m\u001b[0;34m]\u001b[0m\u001b[0;34m,\u001b[0m \u001b[0mmethod\u001b[0m\u001b[0;34m=\u001b[0m\u001b[0mmethod\u001b[0m\u001b[0;34m,\u001b[0m \u001b[0mtolerance\u001b[0m\u001b[0;34m=\u001b[0m\u001b[0mtolerance\u001b[0m\u001b[0;34m)\u001b[0m\u001b[0;34m\u001b[0m\u001b[0;34m\u001b[0m\u001b[0m\n\u001b[1;32m   2894\u001b[0m         \u001b[0;32mif\u001b[0m \u001b[0mindexer\u001b[0m\u001b[0;34m.\u001b[0m\u001b[0mndim\u001b[0m \u001b[0;34m>\u001b[0m \u001b[0;36m1\u001b[0m \u001b[0;32mor\u001b[0m \u001b[0mindexer\u001b[0m\u001b[0;34m.\u001b[0m\u001b[0msize\u001b[0m \u001b[0;34m>\u001b[0m \u001b[0;36m1\u001b[0m\u001b[0;34m:\u001b[0m\u001b[0;34m\u001b[0m\u001b[0;34m\u001b[0m\u001b[0m\n",
      "\u001b[0;32mpandas/_libs/index.pyx\u001b[0m in \u001b[0;36mpandas._libs.index.IndexEngine.get_loc\u001b[0;34m()\u001b[0m\n",
      "\u001b[0;32mpandas/_libs/index.pyx\u001b[0m in \u001b[0;36mpandas._libs.index.IndexEngine.get_loc\u001b[0;34m()\u001b[0m\n",
      "\u001b[0;32mpandas/_libs/hashtable_class_helper.pxi\u001b[0m in \u001b[0;36mpandas._libs.hashtable.Int64HashTable.get_item\u001b[0;34m()\u001b[0m\n",
      "\u001b[0;32mpandas/_libs/hashtable_class_helper.pxi\u001b[0m in \u001b[0;36mpandas._libs.hashtable.Int64HashTable.get_item\u001b[0;34m()\u001b[0m\n",
      "\u001b[0;31mKeyError\u001b[0m: 32"
     ]
    }
   ],
   "source": [
    "df = pd.read_csv('../data/wdbc.data', header=None)\n",
    "df.head()\n",
    "for i in range(2, 33):\n",
    "    print(df[i])"
   ]
  },
  {
   "cell_type": "markdown",
   "metadata": {},
   "source": [
    "## 1.b"
   ]
  },
  {
   "cell_type": "code",
   "execution_count": 7,
   "metadata": {},
   "outputs": [
    {
     "data": {
      "text/plain": [
       "32"
      ]
     },
     "execution_count": 7,
     "metadata": {},
     "output_type": "execute_result"
    }
   ],
   "source": [
    "len(df.columns)"
   ]
  },
  {
   "cell_type": "code",
   "execution_count": 8,
   "metadata": {},
   "outputs": [],
   "source": [
    "malignant_test = df[df[1] == 'M'].iloc[:30]\n",
    "malignant_train = df[df[1] == 'M'].iloc[30:]\n",
    "benign_test = df[df[1] == 'B'].iloc[:50]\n",
    "benign_train = df[df[1] == 'B'].iloc[50:]\n",
    "test_set = pd.concat([malignant_test, benign_test],ignore_index=True)\n",
    "train_set = pd.concat([malignant_train, benign_train],ignore_index=True)"
   ]
  },
  {
   "cell_type": "markdown",
   "metadata": {},
   "source": [
    "## 1.c"
   ]
  },
  {
   "cell_type": "markdown",
   "metadata": {},
   "source": [
    "## i"
   ]
  },
  {
   "cell_type": "code",
   "execution_count": null,
   "metadata": {},
   "outputs": [],
   "source": [
    "sns.pairplot(train_set)"
   ]
  },
  {
   "cell_type": "markdown",
   "metadata": {},
   "source": [
    "## ii"
   ]
  },
  {
   "cell_type": "code",
   "execution_count": 9,
   "metadata": {},
   "outputs": [],
   "source": [
    "import sys\n",
    "from sklearn.metrics import confusion_matrix, f1_score, roc_curve, auc\n",
    "from sklearn.preprocessing import normalize"
   ]
  },
  {
   "cell_type": "code",
   "execution_count": 10,
   "metadata": {},
   "outputs": [
    {
     "data": {
      "text/plain": [
       "Int64Index([ 0,  1,  2,  3,  4,  5,  6,  7,  8,  9, 10, 11, 12, 13, 14, 15, 16,\n",
       "            17, 18, 19, 20, 21, 22, 23, 24, 25, 26, 27, 28, 29, 30, 31],\n",
       "           dtype='int64')"
      ]
     },
     "execution_count": 10,
     "metadata": {},
     "output_type": "execute_result"
    }
   ],
   "source": [
    "train_set.columns"
   ]
  },
  {
   "cell_type": "code",
   "execution_count": 11,
   "metadata": {},
   "outputs": [
    {
     "name": "stderr",
     "output_type": "stream",
     "text": [
      "/usr/local/lib/python3.7/site-packages/sklearn/linear_model/_logistic.py:939: ConvergenceWarning: lbfgs failed to converge (status=1):\n",
      "STOP: TOTAL NO. of ITERATIONS REACHED LIMIT.\n",
      "\n",
      "Increase the number of iterations (max_iter) or scale the data as shown in:\n",
      "    https://scikit-learn.org/stable/modules/preprocessing.html.\n",
      "Please also refer to the documentation for alternative solver options:\n",
      "    https://scikit-learn.org/stable/modules/linear_model.html#logistic-regression\n",
      "  extra_warning_msg=_LOGISTIC_SOLVER_CONVERGENCE_MSG)\n"
     ]
    },
    {
     "data": {
      "text/plain": [
       "LogisticRegression(C=9223372036854775807, class_weight=None, dual=False,\n",
       "                   fit_intercept=True, intercept_scaling=1, l1_ratio=None,\n",
       "                   max_iter=100, multi_class='ovr', n_jobs=None, penalty='l2',\n",
       "                   random_state=None, solver='lbfgs', tol=0.0001, verbose=0,\n",
       "                   warm_start=False)"
      ]
     },
     "execution_count": 11,
     "metadata": {},
     "output_type": "execute_result"
    }
   ],
   "source": [
    "reg = LogisticRegression(C=9223372036854775807, multi_class='ovr', solver='lbfgs')\n",
    "reg.fit(normalize(train_set[[x for x in range(32) if x > 1]].values), train_set[1])"
   ]
  },
  {
   "cell_type": "code",
   "execution_count": 12,
   "metadata": {},
   "outputs": [
    {
     "name": "stdout",
     "output_type": "stream",
     "text": [
      "confusion matrix: [[49  1]\n",
      " [ 3 27]]\n",
      "f1 score: 0.9310344827586207\n",
      "precision: 0.9642857142857143\n",
      "recall: 0.9\n",
      "training AUC: 0.9953333333333333\n",
      "testing AUC: 0.9917492930522247\n"
     ]
    }
   ],
   "source": [
    "prediction_test = reg.predict(normalize(test_set[[x for x in range(32) if x > 1]].values))\n",
    "prediction_train = reg.predict(normalize(train_set[[x for x in range(32) if x > 1]].values))\n",
    "con_matrix = confusion_matrix(test_set[1],prediction_test)\n",
    "print('confusion matrix: {}'.format(con_matrix))\n",
    "print('f1 score: {}'.format(f1_score(test_set[1], prediction_test, pos_label='M')))\n",
    "print('precision: {}'.format(con_matrix[1,1] / (con_matrix[1,1] + con_matrix[0,1])))\n",
    "print('recall: {}'.format(con_matrix[1,1] / (con_matrix[1,1] + con_matrix[1,0])))\n",
    "\n",
    "fpr_train, tpr_train, thresholds_train = roc_curve(test_set[1], reg.predict_proba(normalize(test_set[[x for x in range(32) if x > 1]].values))[:,1], pos_label='M')\n",
    "fpr_test, tpr_test, thresholds_test = roc_curve(train_set[1], reg.predict_proba(normalize(train_set[[x for x in range(32) if x > 1]].values))[:,1], pos_label='M')\n",
    "print('training AUC: {}'.format(auc(fpr_train, tpr_train)))\n",
    "print('testing AUC: {}'.format(auc(fpr_test, tpr_test)))"
   ]
  },
  {
   "cell_type": "markdown",
   "metadata": {},
   "source": [
    "## iii"
   ]
  },
  {
   "cell_type": "code",
   "execution_count": 13,
   "metadata": {},
   "outputs": [],
   "source": [
    "from sklearn.feature_selection import RFE"
   ]
  },
  {
   "cell_type": "code",
   "execution_count": 14,
   "metadata": {},
   "outputs": [
    {
     "data": {
      "text/plain": [
       "{'C': 9223372036854775807,\n",
       " 'class_weight': None,\n",
       " 'dual': False,\n",
       " 'fit_intercept': True,\n",
       " 'intercept_scaling': 1,\n",
       " 'l1_ratio': None,\n",
       " 'max_iter': 100,\n",
       " 'multi_class': 'ovr',\n",
       " 'n_jobs': None,\n",
       " 'penalty': 'l2',\n",
       " 'random_state': None,\n",
       " 'solver': 'lbfgs',\n",
       " 'tol': 0.0001,\n",
       " 'verbose': 0,\n",
       " 'warm_start': False}"
      ]
     },
     "execution_count": 14,
     "metadata": {},
     "output_type": "execute_result"
    }
   ],
   "source": [
    "reg.get_params()"
   ]
  },
  {
   "cell_type": "code",
   "execution_count": 15,
   "metadata": {},
   "outputs": [],
   "source": [
    "new_train_set = train_set\n",
    "new_test_set = test_set"
   ]
  },
  {
   "cell_type": "code",
   "execution_count": 16,
   "metadata": {},
   "outputs": [
    {
     "name": "stdout",
     "output_type": "stream",
     "text": [
      "Warning: Maximum number of iterations has been exceeded.\n",
      "         Current function value: 0.043073\n",
      "         Iterations: 10\n"
     ]
    },
    {
     "name": "stderr",
     "output_type": "stream",
     "text": [
      "/usr/local/lib/python3.7/site-packages/statsmodels/base/model.py:512: ConvergenceWarning: Maximum Likelihood optimization failed to converge. Check mle_retvals\n",
      "  \"Check mle_retvals\", ConvergenceWarning)\n"
     ]
    },
    {
     "data": {
      "text/html": [
       "<table class=\"simpletable\">\n",
       "<caption>Logit Regression Results</caption>\n",
       "<tr>\n",
       "  <th>Dep. Variable:</th>           <td>1</td>        <th>  No. Observations:  </th>   <td>   489</td>  \n",
       "</tr>\n",
       "<tr>\n",
       "  <th>Model:</th>                 <td>Logit</td>      <th>  Df Residuals:      </th>   <td>   478</td>  \n",
       "</tr>\n",
       "<tr>\n",
       "  <th>Method:</th>                 <td>MLE</td>       <th>  Df Model:          </th>   <td>    10</td>  \n",
       "</tr>\n",
       "<tr>\n",
       "  <th>Date:</th>            <td>Sun, 22 Dec 2019</td> <th>  Pseudo R-squ.:     </th>   <td>0.9347</td>  \n",
       "</tr>\n",
       "<tr>\n",
       "  <th>Time:</th>                <td>01:14:38</td>     <th>  Log-Likelihood:    </th>  <td> -21.063</td> \n",
       "</tr>\n",
       "<tr>\n",
       "  <th>converged:</th>             <td>False</td>      <th>  LL-Null:           </th>  <td> -322.79</td> \n",
       "</tr>\n",
       "<tr>\n",
       "  <th>Covariance Type:</th>     <td>nonrobust</td>    <th>  LLR p-value:       </th> <td>3.191e-123</td>\n",
       "</tr>\n",
       "</table>\n",
       "<table class=\"simpletable\">\n",
       "<tr>\n",
       "   <td></td>     <th>coef</th>     <th>std err</th>      <th>z</th>      <th>P>|z|</th>  <th>[0.025</th>    <th>0.975]</th>  \n",
       "</tr>\n",
       "<tr>\n",
       "  <th>2</th>  <td>   -9.2800</td> <td>    2.321</td> <td>   -3.999</td> <td> 0.000</td> <td>  -13.829</td> <td>   -4.731</td>\n",
       "</tr>\n",
       "<tr>\n",
       "  <th>3</th>  <td>    0.6506</td> <td>    0.170</td> <td>    3.819</td> <td> 0.000</td> <td>    0.317</td> <td>    0.984</td>\n",
       "</tr>\n",
       "<tr>\n",
       "  <th>5</th>  <td>    0.0646</td> <td>    0.016</td> <td>    4.156</td> <td> 0.000</td> <td>    0.034</td> <td>    0.095</td>\n",
       "</tr>\n",
       "<tr>\n",
       "  <th>7</th>  <td>  -69.6346</td> <td>   30.702</td> <td>   -2.268</td> <td> 0.023</td> <td> -129.810</td> <td>   -9.459</td>\n",
       "</tr>\n",
       "<tr>\n",
       "  <th>9</th>  <td>  270.9702</td> <td>   70.849</td> <td>    3.825</td> <td> 0.000</td> <td>  132.109</td> <td>  409.831</td>\n",
       "</tr>\n",
       "<tr>\n",
       "  <th>15</th> <td>    0.1694</td> <td>    0.054</td> <td>    3.151</td> <td> 0.002</td> <td>    0.064</td> <td>    0.275</td>\n",
       "</tr>\n",
       "<tr>\n",
       "  <th>20</th> <td> -314.5815</td> <td>  134.856</td> <td>   -2.333</td> <td> 0.020</td> <td> -578.894</td> <td>  -50.269</td>\n",
       "</tr>\n",
       "<tr>\n",
       "  <th>21</th> <td> -473.2582</td> <td>  178.987</td> <td>   -2.644</td> <td> 0.008</td> <td> -824.067</td> <td> -122.450</td>\n",
       "</tr>\n",
       "<tr>\n",
       "  <th>22</th> <td>    3.5907</td> <td>    1.216</td> <td>    2.954</td> <td> 0.003</td> <td>    1.208</td> <td>    5.973</td>\n",
       "</tr>\n",
       "<tr>\n",
       "  <th>28</th> <td>   15.6911</td> <td>    6.096</td> <td>    2.574</td> <td> 0.010</td> <td>    3.743</td> <td>   27.639</td>\n",
       "</tr>\n",
       "<tr>\n",
       "  <th>30</th> <td>   44.7295</td> <td>   17.183</td> <td>    2.603</td> <td> 0.009</td> <td>   11.052</td> <td>   78.407</td>\n",
       "</tr>\n",
       "</table><br/><br/>Possibly complete quasi-separation: A fraction 0.71 of observations can be<br/>perfectly predicted. This might indicate that there is complete<br/>quasi-separation. In this case some parameters will not be identified."
      ],
      "text/plain": [
       "<class 'statsmodels.iolib.summary.Summary'>\n",
       "\"\"\"\n",
       "                           Logit Regression Results                           \n",
       "==============================================================================\n",
       "Dep. Variable:                      1   No. Observations:                  489\n",
       "Model:                          Logit   Df Residuals:                      478\n",
       "Method:                           MLE   Df Model:                           10\n",
       "Date:                Sun, 22 Dec 2019   Pseudo R-squ.:                  0.9347\n",
       "Time:                        01:14:38   Log-Likelihood:                -21.063\n",
       "converged:                      False   LL-Null:                       -322.79\n",
       "Covariance Type:            nonrobust   LLR p-value:                3.191e-123\n",
       "==============================================================================\n",
       "                 coef    std err          z      P>|z|      [0.025      0.975]\n",
       "------------------------------------------------------------------------------\n",
       "2             -9.2800      2.321     -3.999      0.000     -13.829      -4.731\n",
       "3              0.6506      0.170      3.819      0.000       0.317       0.984\n",
       "5              0.0646      0.016      4.156      0.000       0.034       0.095\n",
       "7            -69.6346     30.702     -2.268      0.023    -129.810      -9.459\n",
       "9            270.9702     70.849      3.825      0.000     132.109     409.831\n",
       "15             0.1694      0.054      3.151      0.002       0.064       0.275\n",
       "20          -314.5815    134.856     -2.333      0.020    -578.894     -50.269\n",
       "21          -473.2582    178.987     -2.644      0.008    -824.067    -122.450\n",
       "22             3.5907      1.216      2.954      0.003       1.208       5.973\n",
       "28            15.6911      6.096      2.574      0.010       3.743      27.639\n",
       "30            44.7295     17.183      2.603      0.009      11.052      78.407\n",
       "==============================================================================\n",
       "\n",
       "Possibly complete quasi-separation: A fraction 0.71 of observations can be\n",
       "perfectly predicted. This might indicate that there is complete\n",
       "quasi-separation. In this case some parameters will not be identified.\n",
       "\"\"\""
      ]
     },
     "execution_count": 16,
     "metadata": {},
     "output_type": "execute_result"
    }
   ],
   "source": [
    "for i,row in new_train_set.iterrows():\n",
    "    if new_train_set.loc[i,1] == 'M':\n",
    "        new_train_set.at[i,1] = 1\n",
    "    elif new_train_set.loc[i,1] == 'B':\n",
    "        new_train_set.at[i,1] = 0\n",
    "new_train_set.loc[:,1] = new_train_set.loc[:,1].astype(int)\n",
    "\n",
    "del new_train_set[8]\n",
    "del new_train_set[12]\n",
    "del new_train_set[23]\n",
    "del new_train_set[24]\n",
    "del new_train_set[16]\n",
    "del new_train_set[11]\n",
    "del new_train_set[25]\n",
    "del new_train_set[18]\n",
    "del new_train_set[4]\n",
    "del new_train_set[29]\n",
    "del new_train_set[26]\n",
    "del new_train_set[6]\n",
    "del new_train_set[14]\n",
    "del new_train_set[13]\n",
    "del new_train_set[19]\n",
    "del new_train_set[10]\n",
    "del new_train_set[31]\n",
    "del new_train_set[27]\n",
    "del new_train_set[17]\n",
    "\n",
    "logit_model = sm.Logit(new_train_set.loc[:,1].astype(int), new_train_set.loc[:,2:])\n",
    "result = logit_model.fit(maxiter=10)\n",
    "result.summary()"
   ]
  },
  {
   "cell_type": "code",
   "execution_count": 17,
   "metadata": {},
   "outputs": [
    {
     "name": "stderr",
     "output_type": "stream",
     "text": [
      "/usr/local/lib/python3.7/site-packages/sklearn/linear_model/_logistic.py:939: ConvergenceWarning: lbfgs failed to converge (status=1):\n",
      "STOP: TOTAL NO. of ITERATIONS REACHED LIMIT.\n",
      "\n",
      "Increase the number of iterations (max_iter) or scale the data as shown in:\n",
      "    https://scikit-learn.org/stable/modules/preprocessing.html.\n",
      "Please also refer to the documentation for alternative solver options:\n",
      "    https://scikit-learn.org/stable/modules/linear_model.html#logistic-regression\n",
      "  extra_warning_msg=_LOGISTIC_SOLVER_CONVERGENCE_MSG)\n"
     ]
    },
    {
     "data": {
      "text/plain": [
       "LogisticRegression(C=9223372036854775807, class_weight=None, dual=False,\n",
       "                   fit_intercept=True, intercept_scaling=1, l1_ratio=None,\n",
       "                   max_iter=100, multi_class='ovr', n_jobs=None, penalty='l2',\n",
       "                   random_state=None, solver='lbfgs', tol=0.0001, verbose=0,\n",
       "                   warm_start=False)"
      ]
     },
     "execution_count": 17,
     "metadata": {},
     "output_type": "execute_result"
    }
   ],
   "source": [
    "reg = LogisticRegression(C=9223372036854775807, multi_class='ovr', solver='lbfgs')\n",
    "reg.fit(normalize(train_set[[2,3,5,7,9,15,20,21,22,28,30]]), train_set[1])"
   ]
  },
  {
   "cell_type": "code",
   "execution_count": 18,
   "metadata": {},
   "outputs": [],
   "source": [
    "for i,row in new_test_set.iterrows():\n",
    "    if new_test_set.loc[i,1] == 'M':\n",
    "        new_test_set.at[i,1] = 1\n",
    "    elif new_test_set.loc[i,1] == 'B':\n",
    "        new_test_set.at[i,1] = 0"
   ]
  },
  {
   "cell_type": "code",
   "execution_count": 19,
   "metadata": {},
   "outputs": [
    {
     "name": "stdout",
     "output_type": "stream",
     "text": [
      "0     1\n",
      "1     1\n",
      "2     1\n",
      "3     1\n",
      "4     1\n",
      "     ..\n",
      "75    0\n",
      "76    0\n",
      "77    0\n",
      "78    0\n",
      "79    0\n",
      "Name: 1, Length: 80, dtype: object\n"
     ]
    }
   ],
   "source": [
    "print(test_set[1])\n",
    "new_test_set.loc[:,1] = new_test_set.loc[:,1].astype(int)"
   ]
  },
  {
   "cell_type": "code",
   "execution_count": 20,
   "metadata": {},
   "outputs": [
    {
     "name": "stdout",
     "output_type": "stream",
     "text": [
      "confusion matrix: [[49  1]\n",
      " [ 1 29]]\n",
      "f1 score: 0.9666666666666667\n",
      "precision: 0.9666666666666667\n",
      "recall: 0.9666666666666667\n",
      "training AUC: 0.9926666666666667\n",
      "testing AUC: 0.9925188817696962\n"
     ]
    }
   ],
   "source": [
    "prediction_test = reg.predict(normalize(test_set[[2,3,5,7,9,15,20,21,22,28,30]].values))\n",
    "prediction_train = reg.predict(normalize(train_set[[2,3,5,7,9,15,20,21,22,28,30]].values))\n",
    "con_matrix = confusion_matrix(test_set[1],prediction_test)\n",
    "print('confusion matrix: {}'.format(con_matrix))\n",
    "print('f1 score: {}'.format(f1_score(test_set[1], prediction_test)))\n",
    "print('precision: {}'.format(con_matrix[1,1] / (con_matrix[1,1] + con_matrix[0,1])))\n",
    "print('recall: {}'.format(con_matrix[1,1] / (con_matrix[1,1] + con_matrix[1,0])))\n",
    "\n",
    "fpr_train, tpr_train, thresholds_train = roc_curve(test_set[1], reg.predict_proba(normalize(test_set[[2,3,5,7,9,15,20,21,22,28,30]].values))[:,1])\n",
    "fpr_test, tpr_test, thresholds_test = roc_curve(train_set[1], reg.predict_proba(normalize(train_set[[2,3,5,7,9,15,20,21,22,28,30]].values))[:,1])\n",
    "print('training AUC: {}'.format(auc(fpr_train, tpr_train)))\n",
    "print('testing AUC: {}'.format(auc(fpr_test, tpr_test)))"
   ]
  },
  {
   "cell_type": "markdown",
   "metadata": {},
   "source": [
    "## iv"
   ]
  },
  {
   "cell_type": "markdown",
   "metadata": {},
   "source": [
    "Yes, the classes seem to be well-separated (> 99% AUC even before feature removal), and this definitely caused some instability in calculating the Logistic Regression parameters. I was forced to reduce the maximum number of iterations in statsmodels logit to 10 because it was not converging."
   ]
  },
  {
   "cell_type": "markdown",
   "metadata": {},
   "source": [
    "# 2"
   ]
  },
  {
   "cell_type": "code",
   "execution_count": 21,
   "metadata": {},
   "outputs": [
    {
     "data": {
      "text/html": [
       "<div>\n",
       "<style scoped>\n",
       "    .dataframe tbody tr th:only-of-type {\n",
       "        vertical-align: middle;\n",
       "    }\n",
       "\n",
       "    .dataframe tbody tr th {\n",
       "        vertical-align: top;\n",
       "    }\n",
       "\n",
       "    .dataframe thead th {\n",
       "        text-align: right;\n",
       "    }\n",
       "</style>\n",
       "<table border=\"1\" class=\"dataframe\">\n",
       "  <thead>\n",
       "    <tr style=\"text-align: right;\">\n",
       "      <th></th>\n",
       "      <th>0</th>\n",
       "      <th>1</th>\n",
       "      <th>2</th>\n",
       "      <th>3</th>\n",
       "      <th>4</th>\n",
       "      <th>5</th>\n",
       "      <th>6</th>\n",
       "      <th>7</th>\n",
       "      <th>8</th>\n",
       "      <th>9</th>\n",
       "      <th>...</th>\n",
       "      <th>25</th>\n",
       "      <th>26</th>\n",
       "      <th>27</th>\n",
       "      <th>28</th>\n",
       "      <th>29</th>\n",
       "      <th>30</th>\n",
       "      <th>31</th>\n",
       "      <th>32</th>\n",
       "      <th>33</th>\n",
       "      <th>34</th>\n",
       "    </tr>\n",
       "  </thead>\n",
       "  <tbody>\n",
       "    <tr>\n",
       "      <th>0</th>\n",
       "      <td>119513</td>\n",
       "      <td>N</td>\n",
       "      <td>31</td>\n",
       "      <td>18.02</td>\n",
       "      <td>27.60</td>\n",
       "      <td>117.50</td>\n",
       "      <td>1013.0</td>\n",
       "      <td>0.09489</td>\n",
       "      <td>0.1036</td>\n",
       "      <td>0.1086</td>\n",
       "      <td>...</td>\n",
       "      <td>139.70</td>\n",
       "      <td>1436.0</td>\n",
       "      <td>0.1195</td>\n",
       "      <td>0.1926</td>\n",
       "      <td>0.3140</td>\n",
       "      <td>0.1170</td>\n",
       "      <td>0.2677</td>\n",
       "      <td>0.08113</td>\n",
       "      <td>5.0</td>\n",
       "      <td>5</td>\n",
       "    </tr>\n",
       "    <tr>\n",
       "      <th>1</th>\n",
       "      <td>8423</td>\n",
       "      <td>N</td>\n",
       "      <td>61</td>\n",
       "      <td>17.99</td>\n",
       "      <td>10.38</td>\n",
       "      <td>122.80</td>\n",
       "      <td>1001.0</td>\n",
       "      <td>0.11840</td>\n",
       "      <td>0.2776</td>\n",
       "      <td>0.3001</td>\n",
       "      <td>...</td>\n",
       "      <td>184.60</td>\n",
       "      <td>2019.0</td>\n",
       "      <td>0.1622</td>\n",
       "      <td>0.6656</td>\n",
       "      <td>0.7119</td>\n",
       "      <td>0.2654</td>\n",
       "      <td>0.4601</td>\n",
       "      <td>0.11890</td>\n",
       "      <td>3.0</td>\n",
       "      <td>2</td>\n",
       "    </tr>\n",
       "    <tr>\n",
       "      <th>2</th>\n",
       "      <td>842517</td>\n",
       "      <td>N</td>\n",
       "      <td>116</td>\n",
       "      <td>21.37</td>\n",
       "      <td>17.44</td>\n",
       "      <td>137.50</td>\n",
       "      <td>1373.0</td>\n",
       "      <td>0.08836</td>\n",
       "      <td>0.1189</td>\n",
       "      <td>0.1255</td>\n",
       "      <td>...</td>\n",
       "      <td>159.10</td>\n",
       "      <td>1949.0</td>\n",
       "      <td>0.1188</td>\n",
       "      <td>0.3449</td>\n",
       "      <td>0.3414</td>\n",
       "      <td>0.2032</td>\n",
       "      <td>0.4334</td>\n",
       "      <td>0.09067</td>\n",
       "      <td>2.5</td>\n",
       "      <td>0</td>\n",
       "    </tr>\n",
       "    <tr>\n",
       "      <th>3</th>\n",
       "      <td>843483</td>\n",
       "      <td>N</td>\n",
       "      <td>123</td>\n",
       "      <td>11.42</td>\n",
       "      <td>20.38</td>\n",
       "      <td>77.58</td>\n",
       "      <td>386.1</td>\n",
       "      <td>0.14250</td>\n",
       "      <td>0.2839</td>\n",
       "      <td>0.2414</td>\n",
       "      <td>...</td>\n",
       "      <td>98.87</td>\n",
       "      <td>567.7</td>\n",
       "      <td>0.2098</td>\n",
       "      <td>0.8663</td>\n",
       "      <td>0.6869</td>\n",
       "      <td>0.2575</td>\n",
       "      <td>0.6638</td>\n",
       "      <td>0.17300</td>\n",
       "      <td>2.0</td>\n",
       "      <td>0</td>\n",
       "    </tr>\n",
       "    <tr>\n",
       "      <th>4</th>\n",
       "      <td>843584</td>\n",
       "      <td>R</td>\n",
       "      <td>27</td>\n",
       "      <td>20.29</td>\n",
       "      <td>14.34</td>\n",
       "      <td>135.10</td>\n",
       "      <td>1297.0</td>\n",
       "      <td>0.10030</td>\n",
       "      <td>0.1328</td>\n",
       "      <td>0.1980</td>\n",
       "      <td>...</td>\n",
       "      <td>152.20</td>\n",
       "      <td>1575.0</td>\n",
       "      <td>0.1374</td>\n",
       "      <td>0.2050</td>\n",
       "      <td>0.4000</td>\n",
       "      <td>0.1625</td>\n",
       "      <td>0.2364</td>\n",
       "      <td>0.07678</td>\n",
       "      <td>3.5</td>\n",
       "      <td>0</td>\n",
       "    </tr>\n",
       "  </tbody>\n",
       "</table>\n",
       "<p>5 rows × 35 columns</p>\n",
       "</div>"
      ],
      "text/plain": [
       "       0  1    2      3      4       5       6        7       8       9   ...  \\\n",
       "0  119513  N   31  18.02  27.60  117.50  1013.0  0.09489  0.1036  0.1086  ...   \n",
       "1    8423  N   61  17.99  10.38  122.80  1001.0  0.11840  0.2776  0.3001  ...   \n",
       "2  842517  N  116  21.37  17.44  137.50  1373.0  0.08836  0.1189  0.1255  ...   \n",
       "3  843483  N  123  11.42  20.38   77.58   386.1  0.14250  0.2839  0.2414  ...   \n",
       "4  843584  R   27  20.29  14.34  135.10  1297.0  0.10030  0.1328  0.1980  ...   \n",
       "\n",
       "       25      26      27      28      29      30      31       32   33  34  \n",
       "0  139.70  1436.0  0.1195  0.1926  0.3140  0.1170  0.2677  0.08113  5.0   5  \n",
       "1  184.60  2019.0  0.1622  0.6656  0.7119  0.2654  0.4601  0.11890  3.0   2  \n",
       "2  159.10  1949.0  0.1188  0.3449  0.3414  0.2032  0.4334  0.09067  2.5   0  \n",
       "3   98.87   567.7  0.2098  0.8663  0.6869  0.2575  0.6638  0.17300  2.0   0  \n",
       "4  152.20  1575.0  0.1374  0.2050  0.4000  0.1625  0.2364  0.07678  3.5   0  \n",
       "\n",
       "[5 rows x 35 columns]"
      ]
     },
     "execution_count": 21,
     "metadata": {},
     "output_type": "execute_result"
    }
   ],
   "source": [
    "df = pd.read_csv('../data/wpbc.data', header=None)\n",
    "df.head()"
   ]
  },
  {
   "cell_type": "code",
   "execution_count": 22,
   "metadata": {},
   "outputs": [],
   "source": [
    "for i,row in df.iterrows():\n",
    "    if df.loc[i,1] == 'N':\n",
    "        df.at[i,1] = 0\n",
    "    elif df.loc[i,1] == 'R':\n",
    "        df.at[i,1] = 1\n",
    "    else:\n",
    "        print('oops ' + i)"
   ]
  },
  {
   "cell_type": "code",
   "execution_count": 23,
   "metadata": {},
   "outputs": [],
   "source": [
    "df.loc[:,1] = df.loc[:,1].astype(int)"
   ]
  },
  {
   "cell_type": "markdown",
   "metadata": {},
   "source": [
    "## 2.b"
   ]
  },
  {
   "cell_type": "code",
   "execution_count": 24,
   "metadata": {},
   "outputs": [],
   "source": [
    "training_set = df[df[1] == 0].iloc[:130].append(df[df[1] == 1].iloc[:37],ignore_index=True)\n",
    "training_set = training_set.append(df.iloc[196],ignore_index=True)"
   ]
  },
  {
   "cell_type": "markdown",
   "metadata": {},
   "source": [
    "## c"
   ]
  },
  {
   "cell_type": "code",
   "execution_count": 25,
   "metadata": {},
   "outputs": [],
   "source": [
    "my_median = training_set[training_set[34] != '?'][34].median()\n",
    "training_set.at[training_set[34] == '?',34] = my_median"
   ]
  },
  {
   "cell_type": "markdown",
   "metadata": {},
   "source": [
    "## d.i"
   ]
  },
  {
   "cell_type": "code",
   "execution_count": 26,
   "metadata": {},
   "outputs": [],
   "source": [
    "test_set = df[df[1] == 0].iloc[130:].append(df[df[1] == 1].iloc[37:])\n",
    "test_set.drop(196, inplace=True)"
   ]
  },
  {
   "cell_type": "code",
   "execution_count": 27,
   "metadata": {},
   "outputs": [],
   "source": [
    "test_set.reset_index(inplace=True, drop=True)"
   ]
  },
  {
   "cell_type": "code",
   "execution_count": 28,
   "metadata": {},
   "outputs": [
    {
     "data": {
      "text/html": [
       "<div>\n",
       "<style scoped>\n",
       "    .dataframe tbody tr th:only-of-type {\n",
       "        vertical-align: middle;\n",
       "    }\n",
       "\n",
       "    .dataframe tbody tr th {\n",
       "        vertical-align: top;\n",
       "    }\n",
       "\n",
       "    .dataframe thead th {\n",
       "        text-align: right;\n",
       "    }\n",
       "</style>\n",
       "<table border=\"1\" class=\"dataframe\">\n",
       "  <thead>\n",
       "    <tr style=\"text-align: right;\">\n",
       "      <th></th>\n",
       "      <th>0</th>\n",
       "      <th>1</th>\n",
       "      <th>2</th>\n",
       "      <th>3</th>\n",
       "      <th>4</th>\n",
       "      <th>5</th>\n",
       "      <th>6</th>\n",
       "      <th>7</th>\n",
       "      <th>8</th>\n",
       "      <th>9</th>\n",
       "      <th>...</th>\n",
       "      <th>25</th>\n",
       "      <th>26</th>\n",
       "      <th>27</th>\n",
       "      <th>28</th>\n",
       "      <th>29</th>\n",
       "      <th>30</th>\n",
       "      <th>31</th>\n",
       "      <th>32</th>\n",
       "      <th>33</th>\n",
       "      <th>34</th>\n",
       "    </tr>\n",
       "  </thead>\n",
       "  <tbody>\n",
       "    <tr>\n",
       "      <th>0</th>\n",
       "      <td>927997</td>\n",
       "      <td>0</td>\n",
       "      <td>27</td>\n",
       "      <td>18.11</td>\n",
       "      <td>26.17</td>\n",
       "      <td>118.70</td>\n",
       "      <td>970.2</td>\n",
       "      <td>0.09867</td>\n",
       "      <td>0.1716</td>\n",
       "      <td>0.21770</td>\n",
       "      <td>...</td>\n",
       "      <td>145.1</td>\n",
       "      <td>1251.0</td>\n",
       "      <td>0.1464</td>\n",
       "      <td>0.51270</td>\n",
       "      <td>0.8774</td>\n",
       "      <td>0.26030</td>\n",
       "      <td>0.3941</td>\n",
       "      <td>0.09318</td>\n",
       "      <td>2.4</td>\n",
       "      <td>2</td>\n",
       "    </tr>\n",
       "    <tr>\n",
       "      <th>1</th>\n",
       "      <td>928594</td>\n",
       "      <td>0</td>\n",
       "      <td>29</td>\n",
       "      <td>21.93</td>\n",
       "      <td>30.64</td>\n",
       "      <td>146.70</td>\n",
       "      <td>1487.0</td>\n",
       "      <td>0.08679</td>\n",
       "      <td>0.1723</td>\n",
       "      <td>0.20530</td>\n",
       "      <td>...</td>\n",
       "      <td>171.5</td>\n",
       "      <td>1951.0</td>\n",
       "      <td>0.1168</td>\n",
       "      <td>0.40720</td>\n",
       "      <td>0.4494</td>\n",
       "      <td>0.18860</td>\n",
       "      <td>0.2784</td>\n",
       "      <td>0.07353</td>\n",
       "      <td>3.5</td>\n",
       "      <td>0</td>\n",
       "    </tr>\n",
       "    <tr>\n",
       "      <th>2</th>\n",
       "      <td>931678</td>\n",
       "      <td>0</td>\n",
       "      <td>24</td>\n",
       "      <td>24.29</td>\n",
       "      <td>25.48</td>\n",
       "      <td>161.80</td>\n",
       "      <td>1715.0</td>\n",
       "      <td>0.09374</td>\n",
       "      <td>0.2284</td>\n",
       "      <td>0.27020</td>\n",
       "      <td>...</td>\n",
       "      <td>184.8</td>\n",
       "      <td>2213.0</td>\n",
       "      <td>0.1247</td>\n",
       "      <td>0.39350</td>\n",
       "      <td>0.6118</td>\n",
       "      <td>0.20630</td>\n",
       "      <td>0.3983</td>\n",
       "      <td>0.07978</td>\n",
       "      <td>1.2</td>\n",
       "      <td>0</td>\n",
       "    </tr>\n",
       "    <tr>\n",
       "      <th>3</th>\n",
       "      <td>935058</td>\n",
       "      <td>0</td>\n",
       "      <td>13</td>\n",
       "      <td>15.60</td>\n",
       "      <td>26.79</td>\n",
       "      <td>99.85</td>\n",
       "      <td>760.0</td>\n",
       "      <td>0.07885</td>\n",
       "      <td>0.0524</td>\n",
       "      <td>0.03778</td>\n",
       "      <td>...</td>\n",
       "      <td>117.2</td>\n",
       "      <td>1027.0</td>\n",
       "      <td>0.1097</td>\n",
       "      <td>0.09745</td>\n",
       "      <td>0.1263</td>\n",
       "      <td>0.08222</td>\n",
       "      <td>0.2805</td>\n",
       "      <td>0.06378</td>\n",
       "      <td>2.0</td>\n",
       "      <td>2</td>\n",
       "    </tr>\n",
       "    <tr>\n",
       "      <th>4</th>\n",
       "      <td>935878</td>\n",
       "      <td>0</td>\n",
       "      <td>13</td>\n",
       "      <td>15.78</td>\n",
       "      <td>17.10</td>\n",
       "      <td>102.20</td>\n",
       "      <td>769.0</td>\n",
       "      <td>0.09668</td>\n",
       "      <td>0.0903</td>\n",
       "      <td>0.07268</td>\n",
       "      <td>...</td>\n",
       "      <td>111.7</td>\n",
       "      <td>921.4</td>\n",
       "      <td>0.1386</td>\n",
       "      <td>0.26400</td>\n",
       "      <td>0.2901</td>\n",
       "      <td>0.12340</td>\n",
       "      <td>0.3261</td>\n",
       "      <td>0.07752</td>\n",
       "      <td>0.8</td>\n",
       "      <td>0</td>\n",
       "    </tr>\n",
       "  </tbody>\n",
       "</table>\n",
       "<p>5 rows × 35 columns</p>\n",
       "</div>"
      ],
      "text/plain": [
       "       0   1   2      3      4       5       6        7       8        9   \\\n",
       "0  927997   0  27  18.11  26.17  118.70   970.2  0.09867  0.1716  0.21770   \n",
       "1  928594   0  29  21.93  30.64  146.70  1487.0  0.08679  0.1723  0.20530   \n",
       "2  931678   0  24  24.29  25.48  161.80  1715.0  0.09374  0.2284  0.27020   \n",
       "3  935058   0  13  15.60  26.79   99.85   760.0  0.07885  0.0524  0.03778   \n",
       "4  935878   0  13  15.78  17.10  102.20   769.0  0.09668  0.0903  0.07268   \n",
       "\n",
       "   ...     25      26      27       28      29       30      31       32   33  \\\n",
       "0  ...  145.1  1251.0  0.1464  0.51270  0.8774  0.26030  0.3941  0.09318  2.4   \n",
       "1  ...  171.5  1951.0  0.1168  0.40720  0.4494  0.18860  0.2784  0.07353  3.5   \n",
       "2  ...  184.8  2213.0  0.1247  0.39350  0.6118  0.20630  0.3983  0.07978  1.2   \n",
       "3  ...  117.2  1027.0  0.1097  0.09745  0.1263  0.08222  0.2805  0.06378  2.0   \n",
       "4  ...  111.7   921.4  0.1386  0.26400  0.2901  0.12340  0.3261  0.07752  0.8   \n",
       "\n",
       "   34  \n",
       "0   2  \n",
       "1   0  \n",
       "2   0  \n",
       "3   2  \n",
       "4   0  \n",
       "\n",
       "[5 rows x 35 columns]"
      ]
     },
     "execution_count": 28,
     "metadata": {},
     "output_type": "execute_result"
    }
   ],
   "source": [
    "test_set.head()"
   ]
  },
  {
   "cell_type": "code",
   "execution_count": 29,
   "metadata": {},
   "outputs": [],
   "source": [
    "from sklearn.naive_bayes import GaussianNB"
   ]
  },
  {
   "cell_type": "code",
   "execution_count": 30,
   "metadata": {},
   "outputs": [
    {
     "data": {
      "text/plain": [
       "GaussianNB(priors=None, var_smoothing=1e-09)"
      ]
     },
     "execution_count": 30,
     "metadata": {},
     "output_type": "execute_result"
    }
   ],
   "source": [
    "gnb = GaussianNB()\n",
    "gnb.fit(normalize(training_set.loc[:,3:]),training_set.loc[:,1])"
   ]
  },
  {
   "cell_type": "code",
   "execution_count": 31,
   "metadata": {},
   "outputs": [
    {
     "name": "stdout",
     "output_type": "stream",
     "text": [
      "confusion matrix: [[ 6 15]\n",
      " [ 1  8]]\n",
      "f1 score: 0.5\n",
      "precision: 0.34782608695652173\n",
      "recall: 0.8888888888888888\n",
      "training AUC: 0.6825396825396826\n",
      "testing AUC: 0.6346153846153846\n"
     ]
    }
   ],
   "source": [
    "prediction_test = gnb.predict(normalize(test_set.loc[:,3:].values))\n",
    "prediction_train = gnb.predict(normalize(training_set.loc[:,3:].values))\n",
    "con_matrix = confusion_matrix(test_set.loc[:,1],prediction_test)\n",
    "print('confusion matrix: {}'.format(con_matrix))\n",
    "print('f1 score: {}'.format(f1_score(test_set.loc[:,1], prediction_test)))\n",
    "print('precision: {}'.format(con_matrix[1,1] / (con_matrix[1,1] + con_matrix[0,1])))\n",
    "print('recall: {}'.format(con_matrix[1,1] / (con_matrix[1,1] + con_matrix[1,0])))\n",
    "\n",
    "fpr_train, tpr_train, thresholds_train = roc_curve(test_set.loc[:,1], gnb.predict_proba(normalize(test_set.loc[:,3:].values))[:,1])\n",
    "fpr_test, tpr_test, thresholds_test = roc_curve(training_set.loc[:,1], gnb.predict_proba(normalize(training_set.loc[:,3:].values))[:,1])\n",
    "print('training AUC: {}'.format(auc(fpr_train, tpr_train)))\n",
    "print('testing AUC: {}'.format(auc(fpr_test, tpr_test)))"
   ]
  },
  {
   "cell_type": "code",
   "execution_count": 32,
   "metadata": {},
   "outputs": [],
   "source": [
    "training_set_majority = training_set[training_set[1] == 0].reset_index(drop=True)\n",
    "training_set_minority = training_set[training_set[1] == 1].reset_index(drop=True)"
   ]
  },
  {
   "cell_type": "code",
   "execution_count": 33,
   "metadata": {},
   "outputs": [],
   "source": [
    "from random import randint"
   ]
  },
  {
   "cell_type": "code",
   "execution_count": 34,
   "metadata": {},
   "outputs": [],
   "source": [
    "# downsample majority class\n",
    "my_set = set()\n",
    "while len(my_set) < 40:\n",
    "    my_set.add(randint(0,len(training_set_majority)-1))\n",
    "training_set_majority.drop(list(my_set), inplace=True)"
   ]
  },
  {
   "cell_type": "code",
   "execution_count": 35,
   "metadata": {},
   "outputs": [],
   "source": [
    "len(training_set_majority)\n",
    "training_set_majority.reset_index(drop=True,inplace=True)"
   ]
  },
  {
   "cell_type": "code",
   "execution_count": 36,
   "metadata": {},
   "outputs": [],
   "source": [
    "from imblearn.over_sampling import SMOTE"
   ]
  },
  {
   "cell_type": "code",
   "execution_count": 46,
   "metadata": {},
   "outputs": [],
   "source": [
    "new_training = training_set_majority.append(training_set_minority, ignore_index=True)"
   ]
  },
  {
   "cell_type": "code",
   "execution_count": 49,
   "metadata": {},
   "outputs": [],
   "source": [
    "sm = SMOTE(random_state=42,sampling_strategy={1:90,0:90})\n",
    "X_res, y_res = sm.fit_resample(new_training.loc[:,3:],new_training.loc[:,1])"
   ]
  },
  {
   "cell_type": "code",
   "execution_count": 52,
   "metadata": {},
   "outputs": [
    {
     "name": "stdout",
     "output_type": "stream",
     "text": [
      "90\n"
     ]
    }
   ],
   "source": [
    "print(len(X_res[y_res == 0]))"
   ]
  },
  {
   "cell_type": "code",
   "execution_count": 53,
   "metadata": {},
   "outputs": [
    {
     "data": {
      "text/plain": [
       "GaussianNB(priors=None, var_smoothing=1e-09)"
      ]
     },
     "execution_count": 53,
     "metadata": {},
     "output_type": "execute_result"
    }
   ],
   "source": [
    "gnb = GaussianNB()\n",
    "gnb.fit(normalize(X_res),y_res)"
   ]
  },
  {
   "cell_type": "code",
   "execution_count": 55,
   "metadata": {},
   "outputs": [
    {
     "name": "stdout",
     "output_type": "stream",
     "text": [
      "confusion matrix: [[ 7 14]\n",
      " [ 1  8]]\n",
      "f1 score: 0.5161290322580644\n",
      "precision: 0.36363636363636365\n",
      "recall: 0.8888888888888888\n",
      "training AUC: 0.6666666666666666\n",
      "testing AUC: 0.692469135802469\n"
     ]
    }
   ],
   "source": [
    "prediction_test = gnb.predict(normalize(test_set.loc[:,3:].values))\n",
    "prediction_train = gnb.predict(normalize(X_res.values))\n",
    "con_matrix = confusion_matrix(test_set.loc[:,1],prediction_test)\n",
    "print('confusion matrix: {}'.format(con_matrix))\n",
    "print('f1 score: {}'.format(f1_score(test_set.loc[:,1], prediction_test)))\n",
    "print('precision: {}'.format(con_matrix[1,1] / (con_matrix[1,1] + con_matrix[0,1])))\n",
    "print('recall: {}'.format(con_matrix[1,1] / (con_matrix[1,1] + con_matrix[1,0])))\n",
    "\n",
    "fpr_train, tpr_train, thresholds_train = roc_curve(test_set.loc[:,1], gnb.predict_proba(normalize(test_set.loc[:,3:].values))[:,1])\n",
    "fpr_test, tpr_test, thresholds_test = roc_curve(y_res, gnb.predict_proba(normalize(X_res.values))[:,1])\n",
    "print('training AUC: {}'.format(auc(fpr_train, tpr_train)))\n",
    "print('testing AUC: {}'.format(auc(fpr_test, tpr_test)))"
   ]
  },
  {
   "cell_type": "markdown",
   "metadata": {},
   "source": [
    "Based on the testing AUC and f1 scores of the model fitted with and without resampling, SMOTE does seem to help, but not by much."
   ]
  },
  {
   "cell_type": "code",
   "execution_count": null,
   "metadata": {},
   "outputs": [],
   "source": []
  }
 ],
 "metadata": {
  "kernelspec": {
   "display_name": "Python 3",
   "language": "python",
   "name": "python3"
  },
  "language_info": {
   "codemirror_mode": {
    "name": "ipython",
    "version": 3
   },
   "file_extension": ".py",
   "mimetype": "text/x-python",
   "name": "python",
   "nbconvert_exporter": "python",
   "pygments_lexer": "ipython3",
   "version": "3.7.3"
  }
 },
 "nbformat": 4,
 "nbformat_minor": 2
}
